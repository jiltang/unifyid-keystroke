{
 "cells": [
  {
   "cell_type": "code",
   "execution_count": 2,
   "metadata": {},
   "outputs": [],
   "source": [
    "import torch\n",
    "from torch import nn\n",
    "import torch.nn.functional as f\n",
    "import numpy as np\n",
    "import matplotlib.pyplot as plt\n",
    "import pandas as pd"
   ]
  },
  {
   "cell_type": "code",
   "execution_count": 4,
   "metadata": {},
   "outputs": [
    {
     "data": {
      "text/html": [
       "<div>\n",
       "<style scoped>\n",
       "    .dataframe tbody tr th:only-of-type {\n",
       "        vertical-align: middle;\n",
       "    }\n",
       "\n",
       "    .dataframe tbody tr th {\n",
       "        vertical-align: top;\n",
       "    }\n",
       "\n",
       "    .dataframe thead th {\n",
       "        text-align: right;\n",
       "    }\n",
       "</style>\n",
       "<table border=\"1\" class=\"dataframe\">\n",
       "  <thead>\n",
       "    <tr style=\"text-align: right;\">\n",
       "      <th></th>\n",
       "      <th>entry</th>\n",
       "      <th>typed_at</th>\n",
       "      <th>character</th>\n",
       "      <th>user</th>\n",
       "      <th>next_char</th>\n",
       "    </tr>\n",
       "  </thead>\n",
       "  <tbody>\n",
       "    <tr>\n",
       "      <th>0</th>\n",
       "      <td>1</td>\n",
       "      <td>2019-06-30T15:05:44.743893</td>\n",
       "      <td>B</td>\n",
       "      <td>4a438fdede4e11e9b986acde48001122</td>\n",
       "      <td>e</td>\n",
       "    </tr>\n",
       "    <tr>\n",
       "      <th>1</th>\n",
       "      <td>1</td>\n",
       "      <td>2019-06-30T15:05:44.757838</td>\n",
       "      <td>e</td>\n",
       "      <td>4a438fdede4e11e9b986acde48001122</td>\n",
       "      <td></td>\n",
       "    </tr>\n",
       "    <tr>\n",
       "      <th>2</th>\n",
       "      <td>1</td>\n",
       "      <td>2019-06-30T15:05:44.759337</td>\n",
       "      <td></td>\n",
       "      <td>4a438fdede4e11e9b986acde48001122</td>\n",
       "      <td>A</td>\n",
       "    </tr>\n",
       "    <tr>\n",
       "      <th>3</th>\n",
       "      <td>1</td>\n",
       "      <td>2019-06-30T15:05:44.761095</td>\n",
       "      <td>A</td>\n",
       "      <td>4a438fdede4e11e9b986acde48001122</td>\n",
       "      <td>u</td>\n",
       "    </tr>\n",
       "    <tr>\n",
       "      <th>4</th>\n",
       "      <td>1</td>\n",
       "      <td>2019-06-30T15:05:44.776354</td>\n",
       "      <td>u</td>\n",
       "      <td>4a438fdede4e11e9b986acde48001122</td>\n",
       "      <td>t</td>\n",
       "    </tr>\n",
       "  </tbody>\n",
       "</table>\n",
       "</div>"
      ],
      "text/plain": [
       "   entry                    typed_at character  \\\n",
       "0      1  2019-06-30T15:05:44.743893         B   \n",
       "1      1  2019-06-30T15:05:44.757838         e   \n",
       "2      1  2019-06-30T15:05:44.759337             \n",
       "3      1  2019-06-30T15:05:44.761095         A   \n",
       "4      1  2019-06-30T15:05:44.776354         u   \n",
       "\n",
       "                               user next_char  \n",
       "0  4a438fdede4e11e9b986acde48001122         e  \n",
       "1  4a438fdede4e11e9b986acde48001122            \n",
       "2  4a438fdede4e11e9b986acde48001122         A  \n",
       "3  4a438fdede4e11e9b986acde48001122         u  \n",
       "4  4a438fdede4e11e9b986acde48001122         t  "
      ]
     },
     "execution_count": 4,
     "metadata": {},
     "output_type": "execute_result"
    }
   ],
   "source": [
    "dat = pd.read_csv(\"qualified_raw.csv\")\n",
    "dat.head()"
   ]
  },
  {
   "cell_type": "code",
   "execution_count": null,
   "metadata": {},
   "outputs": [],
   "source": []
  }
 ],
 "metadata": {
  "kernelspec": {
   "display_name": "Python 3",
   "language": "python",
   "name": "python3"
  },
  "language_info": {
   "codemirror_mode": {
    "name": "ipython",
    "version": 3
   },
   "file_extension": ".py",
   "mimetype": "text/x-python",
   "name": "python",
   "nbconvert_exporter": "python",
   "pygments_lexer": "ipython3",
   "version": "3.7.2"
  }
 },
 "nbformat": 4,
 "nbformat_minor": 2
}
